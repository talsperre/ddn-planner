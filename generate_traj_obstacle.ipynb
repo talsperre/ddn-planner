{
 "cells": [
  {
   "cell_type": "code",
   "execution_count": 1,
   "metadata": {},
   "outputs": [],
   "source": [
    "import os\n",
    "import cvxopt\n",
    "import numpy as np\n",
    "import scipy.special\n",
    "import matplotlib.pyplot as plt \n",
    "\n",
    "from cvxopt import solvers\n",
    "from scipy.linalg import block_diag"
   ]
  },
  {
   "cell_type": "code",
   "execution_count": 2,
   "metadata": {},
   "outputs": [],
   "source": [
    "def bernstein_coeff_order10_new(n, tmin, tmax, t_actual):\n",
    "    l = tmax - tmin\n",
    "    t = (t_actual - tmin) / l\n",
    "    \n",
    "    P0 = scipy.special.binom(n, 0) * ((1 - t) ** (n - 0)) * t ** 0\n",
    "    P1 = scipy.special.binom(n, 1) * ((1 - t) ** (n - 1)) * t ** 1\n",
    "    P2 = scipy.special.binom(n, 2) * ((1 - t) ** (n - 2)) * t ** 2\n",
    "    P3 = scipy.special.binom(n, 3) * ((1 - t) ** (n - 3)) * t ** 3\n",
    "    P4 = scipy.special.binom(n, 4) * ((1 - t) ** (n - 4)) * t ** 4\n",
    "    P5 = scipy.special.binom(n, 5) * ((1 - t) ** (n - 5)) * t ** 5\n",
    "    P6 = scipy.special.binom(n, 6) * ((1 - t) ** (n - 6)) * t ** 6\n",
    "    P7 = scipy.special.binom(n, 7) * ((1 - t) ** (n - 7)) * t ** 7\n",
    "    P8 = scipy.special.binom(n, 8) * ((1 - t) ** (n - 8)) * t ** 8\n",
    "    P9 = scipy.special.binom(n, 9) * ((1 - t) ** (n - 9)) * t ** 9\n",
    "    P10 = scipy.special.binom(n, 10) * ((1 - t) ** (n - 10)) * t ** 10\n",
    "\n",
    "    P0dot = -10.0 * (-t + 1) ** 9\n",
    "    P1dot = -90.0 * t * (-t + 1) ** 8 + 10.0 * (-t + 1) ** 9\n",
    "    P2dot = -360.0 * t ** 2 * (-t + 1) ** 7 + 90.0 * t * (-t + 1) ** 8\n",
    "    P3dot = -840.0 * t ** 3 * (-t + 1) ** 6 + 360.0 * t ** 2 * (-t + 1) ** 7\n",
    "    P4dot = -1260.0 * t ** 4 * (-t + 1) ** 5 + 840.0 * t ** 3 * (-t + 1) ** 6\n",
    "    P5dot = -1260.0 * t ** 5 * (-t + 1) ** 4 + 1260.0 * t ** 4 * (-t + 1) ** 5\n",
    "    P6dot = -840.0 * t ** 6 * (-t + 1) ** 3 + 1260.0 * t ** 5 * (-t + 1) ** 4\n",
    "    P7dot = -360.0 * t ** 7 * (-t + 1) ** 2 + 840.0 * t ** 6 * (-t + 1) ** 3\n",
    "    P8dot = 45.0 * t ** 8 * (2 * t - 2) + 360.0 * t ** 7 * (-t + 1) ** 2\n",
    "    P9dot = -10.0 * t ** 9 + 9 * t ** 8 * (-10.0 * t + 10.0)\n",
    "    P10dot = 10.0 * t ** 9\n",
    "\n",
    "    P0ddot = 90.0 * (-t + 1) ** 8\n",
    "    P1ddot = 720.0 * t * (-t + 1) ** 7 - 180.0 * (-t + 1) ** 8\n",
    "    P2ddot = 2520.0 * t ** 2 * (-t + 1) ** 6 - 1440.0 * t * (-t + 1) ** 7 + 90.0 * (-t + 1) ** 8\n",
    "    P3ddot = 5040.0 * t ** 3 * (-t + 1) ** 5 - 5040.0 * t ** 2 * (-t + 1) ** 6 + 720.0 * t * (-t + 1) ** 7\n",
    "    P4ddot = 6300.0 * t ** 4 * (-t + 1) ** 4 - 10080.0 * t ** 3 * (-t + 1) ** 5 + 2520.0 * t ** 2 * (-t + 1) ** 6\n",
    "    P5ddot = 5040.0 * t ** 5 * (-t + 1) ** 3 - 12600.0 * t ** 4 * (-t + 1) ** 4 + 5040.0 * t ** 3 * (-t + 1) ** 5\n",
    "    P6ddot = 2520.0 * t ** 6 * (-t + 1) ** 2 - 10080.0 * t ** 5 * (-t + 1) ** 3 + 6300.0 * t ** 4 * (-t + 1) ** 4\n",
    "    P7ddot = -360.0 * t ** 7 * (2 * t - 2) - 5040.0 * t ** 6 * (-t + 1) ** 2 + 5040.0 * t ** 5 * (-t + 1) ** 3\n",
    "    P8ddot = 90.0 * t ** 8 + 720.0 * t ** 7 * (2 * t - 2) + 2520.0 * t ** 6 * (-t + 1) ** 2\n",
    "    P9ddot = -180.0 * t ** 8 + 72 * t ** 7 * (-10.0 * t + 10.0)\n",
    "    P10ddot = 90.0 * t ** 8\n",
    "\n",
    "    P = np.hstack((P0, P1, P2, P3, P4, P5, P6, P7, P8, P9, P10))\n",
    "    Pdot = np.hstack((P0dot, P1dot, P2dot, P3dot, P4dot, P5dot, P6dot, P7dot, P8dot, P9dot, P10dot)) / l\n",
    "    Pddot = np.hstack((P0ddot, P1ddot, P2ddot, P3ddot, P4ddot, P5ddot, P6ddot, P7ddot, P8ddot, P9ddot, P10ddot)) / (l ** 2)\n",
    "    return P, Pdot, Pddot"
   ]
  },
  {
   "cell_type": "markdown",
   "metadata": {},
   "source": [
    "#### Initializations"
   ]
  },
  {
   "cell_type": "code",
   "execution_count": 3,
   "metadata": {},
   "outputs": [],
   "source": [
    "x_min = -6.0\n",
    "x_max = 6.0\n",
    "y_min = -6.0\n",
    "y_max = 6.0\n",
    "\n",
    "a_obs = 1.0\n",
    "b_obs = 1.0\n",
    "\n",
    "# t_fin = 6.0\n",
    "# num = 75\n",
    "t_fin = 4.0\n",
    "num = 50"
   ]
  },
  {
   "cell_type": "code",
   "execution_count": 4,
   "metadata": {},
   "outputs": [],
   "source": [
    "tot_time = np.linspace(0.0, t_fin, num)\n",
    "tot_time_copy = tot_time.reshape(num, 1)\n",
    "P, Pdot, Pddot = bernstein_coeff_order10_new(10, tot_time_copy[0], tot_time_copy[-1], tot_time_copy)\n",
    "nvar = np.shape(P)[1]\n",
    "num = np.shape(P)[0]"
   ]
  },
  {
   "cell_type": "code",
   "execution_count": 5,
   "metadata": {},
   "outputs": [],
   "source": [
    "# x_obs_temp = np.hstack((-2.0, -0.79, 3.0))\n",
    "# y_obs_temp = np.hstack((-2.0, 1.0, -0.80))\n",
    "x_obs_temp = np.hstack((-2.0, -0.79, 3.0, 4.0))\n",
    "y_obs_temp = np.hstack((-2.0, 1.0, -0.80, 2.0))\n",
    "num_obs = np.shape(x_obs_temp)[0]\n",
    "\n",
    "x_obs = np.ones((num_obs, num)) * x_obs_temp[:, np.newaxis]\n",
    "y_obs = np.ones((num_obs, num)) * y_obs_temp[:, np.newaxis]\n",
    "obs_pos = np.vstack((x_obs_temp, y_obs_temp)).T"
   ]
  },
  {
   "cell_type": "code",
   "execution_count": 6,
   "metadata": {},
   "outputs": [],
   "source": [
    "A_eq = np.vstack((P[0], Pdot[0], Pddot[0], P[-1], Pdot[-1], Pddot[-1]))\n",
    "A_obs = np.tile(P, (num_obs, 1))\n",
    "Q_smoothness = np.dot(Pddot.T, Pddot)"
   ]
  },
  {
   "cell_type": "code",
   "execution_count": 7,
   "metadata": {},
   "outputs": [],
   "source": [
    "def is_obstacle_collision(pos):\n",
    "    # pos: 1 x 2, obs_pos: n x 2\n",
    "    dis = np.linalg.norm(pos - obs_pos, axis=1)\n",
    "    return np.sum(dis > 1.5) < num_obs"
   ]
  },
  {
   "cell_type": "code",
   "execution_count": 8,
   "metadata": {},
   "outputs": [],
   "source": [
    "def is_goal_collision(init_pos, goal_pos):\n",
    "    dis = np.linalg.norm(goal_pos - init_pos, axis=1)\n",
    "    return np.sum(dis > 1.5) < 1"
   ]
  },
  {
   "cell_type": "code",
   "execution_count": 9,
   "metadata": {},
   "outputs": [],
   "source": [
    "def generate_init_pos():\n",
    "    while True:\n",
    "        init_pos = np.random.uniform(x_min + 0.5, x_max - 0.5, (1, 2))\n",
    "        if not is_obstacle_collision(init_pos):\n",
    "            break\n",
    "    return init_pos"
   ]
  },
  {
   "cell_type": "code",
   "execution_count": 10,
   "metadata": {},
   "outputs": [],
   "source": [
    "def generate_goal_pos(init_pos):\n",
    "    while True:\n",
    "        goal_pos = np.random.uniform(x_min + 0.5, x_max - 0.5, (1, 2))\n",
    "        if not is_obstacle_collision(goal_pos) and not is_goal_collision(init_pos, goal_pos):\n",
    "            break\n",
    "    return goal_pos"
   ]
  },
  {
   "cell_type": "code",
   "execution_count": 11,
   "metadata": {},
   "outputs": [],
   "source": [
    "def initialize():\n",
    "    init_pos = generate_init_pos()\n",
    "    goal_pos = generate_goal_pos(init_pos)\n",
    "    \n",
    "    x_init, y_init = init_pos.reshape(-1)\n",
    "    x_fin, y_fin = goal_pos.reshape(-1)\n",
    "    \n",
    "    vx_init, vy_init = np.random.uniform(0, 1, 2)\n",
    "    ax_init, ay_init = np.random.uniform(0, 0.5, 2)\n",
    "    \n",
    "    vx_fin, vy_fin = np.random.uniform(0, 1, 2)\n",
    "    ax_fin, ay_fin = np.random.uniform(0, 0.5, 2)\n",
    "    \n",
    "#     vx_fin, vy_fin = 0.0, 0.0\n",
    "#     ax_fin, ay_fin = 0.0, 0.0\n",
    "    \n",
    "    return x_init, y_init, vx_init, vy_init, ax_init, ay_init, x_fin, y_fin, vx_fin, vy_fin, ax_fin, ay_fin"
   ]
  },
  {
   "cell_type": "markdown",
   "metadata": {},
   "source": [
    "#### Weight Initializations"
   ]
  },
  {
   "cell_type": "code",
   "execution_count": 12,
   "metadata": {},
   "outputs": [],
   "source": [
    "# rho_obs = 0.3\n",
    "rho_obs = 1.2\n",
    "rho_eq = 10.0\n",
    "weight_smoothness = 10"
   ]
  },
  {
   "cell_type": "code",
   "execution_count": 13,
   "metadata": {},
   "outputs": [],
   "source": [
    "def compute_sol(rho_obs, rho_eq, weight_smoothness, num_obs, bx_eq, by_eq, P, Pdot, Pddot, x_obs, y_obs, a_obs, b_obs):    \n",
    "    maxiter = 300\n",
    "    nvar = np.shape(P)[1]\n",
    "    num = np.shape(P)[0]\n",
    "\n",
    "    A_eq = np.vstack((P[0], Pdot[0], Pddot[0], P[-1], Pdot[-1], Pddot[-1]))\n",
    "    A_obs = np.tile(P, (num_obs, 1))\n",
    "\n",
    "    cost_smoothness = weight_smoothness * np.dot(Pddot.T, Pddot)\n",
    "\n",
    "    alpha_obs = np.zeros((num_obs, num))\n",
    "    d_obs = np.ones((num_obs, num))\n",
    "\n",
    "    lamda_x = np.zeros(nvar)\n",
    "    lamda_y = np.zeros(nvar)\n",
    "    res_obs = np.ones(maxiter)\n",
    "    res_eq = np.ones(maxiter)\n",
    "    d_min = np.ones(maxiter)\n",
    "    cost = cost_smoothness + rho_obs * np.dot(A_obs.T, A_obs) + rho_eq * np.dot(A_eq.T, A_eq)\n",
    "    \n",
    "    for i in range(0, maxiter):\n",
    "        temp_x_obs = d_obs * np.cos(alpha_obs) * a_obs\n",
    "        b_obs_x = x_obs.reshape(num * num_obs) + temp_x_obs.reshape(num * num_obs)\n",
    "\n",
    "        temp_y_obs = d_obs * np.sin(alpha_obs) * b_obs\n",
    "        b_obs_y = y_obs.reshape(num * num_obs) + temp_y_obs.reshape(num*num_obs)\n",
    "\n",
    "        lincost_x = -lamda_x - rho_obs * np.dot(A_obs.T, b_obs_x) - rho_eq * np.dot(A_eq.T, bx_eq)\n",
    "        lincost_y = -lamda_y - rho_obs * np.dot(A_obs.T, b_obs_y) - rho_eq * np.dot(A_eq.T, by_eq)\n",
    "\n",
    "        sol_x = np.linalg.solve(-cost, lincost_x)\n",
    "        sol_y = np.linalg.solve(-cost, lincost_y)\n",
    "\n",
    "        x = np.dot(P, sol_x)\n",
    "        y = np.dot(P, sol_y)\n",
    "\n",
    "        wc_alpha = (x - x_obs)\n",
    "        ws_alpha = (y - y_obs)\n",
    "        alpha_obs = np.arctan2(ws_alpha * a_obs, wc_alpha * b_obs)\n",
    "        \n",
    "        c1_d = 1.0 * rho_obs * (a_obs ** 2 * np.cos(alpha_obs) ** 2 + b_obs ** 2 * np.sin(alpha_obs) ** 2)\n",
    "        c2_d = 1.0 * rho_obs * (a_obs * wc_alpha * np.cos(alpha_obs) + b_obs * ws_alpha * np.sin(alpha_obs))\n",
    "\n",
    "        d_temp = c2_d / c1_d\n",
    "        d_obs = np.maximum(np.ones((num_obs, num)), d_temp)\n",
    "        d_min[i] = np.amin(d_temp)\n",
    "\n",
    "        res_x_obs_vec = wc_alpha - a_obs * d_obs * np.cos(alpha_obs)\n",
    "        res_y_obs_vec = ws_alpha - b_obs * d_obs * np.sin(alpha_obs)\n",
    "        \n",
    "        res_eq_x_vec = np.dot(A_eq, sol_x) - bx_eq\n",
    "        res_eq_y_vec = np.dot(A_eq, sol_y) - by_eq\n",
    "\n",
    "        lamda_x = lamda_x-rho_obs*np.dot(A_obs.T, res_x_obs_vec.reshape(num_obs * num)) - rho_eq * np.dot(A_eq.T, res_eq_x_vec)\n",
    "        lamda_y = lamda_y-rho_obs*np.dot(A_obs.T, res_y_obs_vec.reshape(num_obs * num)) - rho_eq * np.dot(A_eq.T, res_eq_y_vec)\n",
    "\n",
    "        res_eq[i] = np.linalg.norm(np.hstack((res_eq_x_vec,  res_eq_y_vec)))\n",
    "        res_obs[i] = np.linalg.norm(np.hstack((res_x_obs_vec, res_y_obs_vec)))\n",
    "\n",
    "    slack_obs = np.sqrt((d_obs - 1))\n",
    "    return x, y, sol_x, sol_y, alpha_obs.reshape(num_obs*num), d_obs.reshape(num_obs*num), lamda_x, lamda_y, slack_obs.reshape(num_obs*num)"
   ]
  },
  {
   "cell_type": "code",
   "execution_count": 14,
   "metadata": {},
   "outputs": [],
   "source": [
    "os.makedirs('./multiple_loss_test/plots', exist_ok=True)\n",
    "os.makedirs('./multiple_loss_test/data', exist_ok=True)"
   ]
  },
  {
   "cell_type": "code",
   "execution_count": 15,
   "metadata": {},
   "outputs": [],
   "source": [
    "def save_traj_figs(x_init, y_init, x_fin, y_fin, x_traj, y_traj, traj_num):\n",
    "    fig, ax = plt.subplots(1, 1, figsize=(6, 6))\n",
    "    ax.scatter(x_init, y_init, label='Initial Pos')\n",
    "    ax.scatter(x_fin, y_fin, label='Final Pos')\n",
    "    ax.plot(x_traj, y_traj, '-b', linewidth=3.0)\n",
    "    \n",
    "    th = np.linspace(0, 2 * np.pi, 100)\n",
    "    for i in range(0, num_obs):\n",
    "        x_circ = x_obs_temp[i] + a_obs * np.cos(th)\n",
    "        y_circ = y_obs_temp[i] + b_obs * np.sin(th)\n",
    "        ax.plot(x_circ, y_circ, '-k')\n",
    "    \n",
    "    ax.legend()\n",
    "    ax.set_xlim([-7, 7])\n",
    "    ax.set_ylim([-7, 7])\n",
    "    plt.savefig('./multiple_loss_test/plots/{}.png'.format(traj_num))\n",
    "    plt.close()"
   ]
  },
  {
   "cell_type": "code",
   "execution_count": 16,
   "metadata": {},
   "outputs": [],
   "source": [
    "def generate_trajectories():\n",
    "    x_init, y_init, vx_init, vy_init, ax_init, ay_init, x_fin, y_fin, vx_fin, vy_fin, ax_fin, ay_fin = initialize()\n",
    "\n",
    "    bx_eq =  np.hstack((x_init, vx_init, ax_init, x_fin, vx_fin, ax_fin))\n",
    "    by_eq =  np.hstack((y_init, vy_init, ay_init, y_fin, vy_fin, ay_fin))\n",
    "    \n",
    "    x, y, sol_x, sol_y, alpha_obs, d_obs, lamda_x, lamda_y, slack_obs = compute_sol(rho_obs, rho_eq, weight_smoothness, num_obs, bx_eq, by_eq, P, Pdot, Pddot, x_obs, y_obs, a_obs, b_obs)\n",
    "    return x, y, x_init, y_init, vx_init, vy_init, ax_init, ay_init, x_fin, y_fin, vx_fin, ax_fin, vy_fin, ay_fin"
   ]
  },
  {
   "cell_type": "code",
   "execution_count": 17,
   "metadata": {},
   "outputs": [],
   "source": [
    "for i in range(1000):\n",
    "    x_traj, y_traj, x_init, y_init, vx_init, vy_init, ax_init, ay_init, x_fin, y_fin, vx_fin, ax_fin, vy_fin, ay_fin = generate_trajectories()\n",
    "    save_traj_figs(x_init, y_init, x_fin, y_fin, x_traj, y_traj, i)\n",
    "    np.save(\"./multiple_loss_test/data/{}.npy\".format(i), {\n",
    "        \"x_traj\": x_traj,\n",
    "        \"y_traj\": y_traj,\n",
    "        \"x_init\": x_init,\n",
    "        \"y_init\": y_init,\n",
    "        \"vx_init\": vx_init,\n",
    "        \"vy_init\": vy_init,\n",
    "        \"ax_init\": ax_init,\n",
    "        \"ay_init\": ay_init,\n",
    "        \"x_fin\": x_fin,\n",
    "        \"y_fin\": y_fin,\n",
    "        \"vx_fin\": vx_fin,\n",
    "        \"ax_fin\": ax_fin,\n",
    "        \"vy_fin\": vy_fin,\n",
    "        \"ay_fin\": ay_fin,\n",
    "    })"
   ]
  },
  {
   "cell_type": "code",
   "execution_count": null,
   "metadata": {},
   "outputs": [],
   "source": []
  }
 ],
 "metadata": {
  "kernelspec": {
   "display_name": "Python 3",
   "language": "python",
   "name": "python3"
  },
  "language_info": {
   "codemirror_mode": {
    "name": "ipython",
    "version": 3
   },
   "file_extension": ".py",
   "mimetype": "text/x-python",
   "name": "python",
   "nbconvert_exporter": "python",
   "pygments_lexer": "ipython3",
   "version": "3.7.7"
  }
 },
 "nbformat": 4,
 "nbformat_minor": 4
}
