{
 "cells": [
  {
   "cell_type": "code",
   "execution_count": 1,
   "metadata": {},
   "outputs": [],
   "source": [
    "import time\n",
    "import numpy as np\n",
    "import scipy.special\n",
    "import jax.numpy as jnp\n",
    "import matplotlib.pyplot as plt\n",
    "\n",
    "from jax import jit, jacfwd, jacrev, random, vmap\n",
    "from jax.config import config\n",
    "\n",
    "config.update(\"jax_enable_x64\", True)"
   ]
  },
  {
   "cell_type": "markdown",
   "metadata": {},
   "source": [
    "#### Bernstein Coefficient Polynomials"
   ]
  },
  {
   "cell_type": "code",
   "execution_count": 2,
   "metadata": {},
   "outputs": [],
   "source": [
    "def bernstein_coeff_order10_new(n, tmin, tmax, t_actual):\n",
    "    l = tmax - tmin\n",
    "    t = (t_actual - tmin) / l\n",
    "\n",
    "    P0 = scipy.special.binom(n, 0) * ((1 - t) ** (n - 0)) * t ** 0\n",
    "    P1 = scipy.special.binom(n, 1) * ((1 - t) ** (n - 1)) * t ** 1\n",
    "    P2 = scipy.special.binom(n, 2) * ((1 - t) ** (n - 2)) * t ** 2\n",
    "    P3 = scipy.special.binom(n, 3) * ((1 - t) ** (n - 3)) * t ** 3\n",
    "    P4 = scipy.special.binom(n, 4) * ((1 - t) ** (n - 4)) * t ** 4\n",
    "    P5 = scipy.special.binom(n, 5) * ((1 - t) ** (n - 5)) * t ** 5\n",
    "    P6 = scipy.special.binom(n, 6) * ((1 - t) ** (n - 6)) * t ** 6\n",
    "    P7 = scipy.special.binom(n, 7) * ((1 - t) ** (n - 7)) * t ** 7\n",
    "    P8 = scipy.special.binom(n, 8) * ((1 - t) ** (n - 8)) * t ** 8\n",
    "    P9 = scipy.special.binom(n, 9) * ((1 - t) ** (n - 9)) * t ** 9\n",
    "    P10 = scipy.special.binom(n, 10) * ((1 - t) ** (n - 10)) * t ** 10\n",
    "\n",
    "    P0dot = -10.0 * (-t + 1) ** 9\n",
    "    P1dot = -90.0 * t * (-t + 1) ** 8 + 10.0 * (-t + 1) ** 9\n",
    "    P2dot = -360.0 * t ** 2 * (-t + 1) ** 7 + 90.0 * t * (-t + 1) ** 8\n",
    "    P3dot = -840.0 * t ** 3 * (-t + 1) ** 6 + 360.0 * t ** 2 * (-t + 1) ** 7\n",
    "    P4dot = -1260.0 * t ** 4 * (-t + 1) ** 5 + 840.0 * t ** 3 * (-t + 1) ** 6\n",
    "    P5dot = -1260.0 * t ** 5 * (-t + 1) ** 4 + 1260.0 * t ** 4 * (-t + 1) ** 5\n",
    "    P6dot = -840.0 * t ** 6 * (-t + 1) ** 3 + 1260.0 * t ** 5 * (-t + 1) ** 4\n",
    "    P7dot = -360.0 * t ** 7 * (-t + 1) ** 2 + 840.0 * t ** 6 * (-t + 1) ** 3\n",
    "    P8dot = 45.0 * t ** 8 * (2 * t - 2) + 360.0 * t ** 7 * (-t + 1) ** 2\n",
    "    P9dot = -10.0 * t ** 9 + 9 * t ** 8 * (-10.0 * t + 10.0)\n",
    "    P10dot = 10.0 * t ** 9\n",
    "\n",
    "    P0ddot = 90.0 * (-t + 1) ** 8\n",
    "    P1ddot = 720.0 * t * (-t + 1) ** 7 - 180.0 * (-t + 1) ** 8\n",
    "    P2ddot = 2520.0 * t ** 2 * (-t + 1) ** 6 - 1440.0 * t * (-t + 1) ** 7 + 90.0 * (-t + 1) ** 8\n",
    "    P3ddot = 5040.0 * t ** 3 * (-t + 1) ** 5 - 5040.0 * t ** 2 * (-t + 1) ** 6 + 720.0 * t * (-t + 1) ** 7\n",
    "    P4ddot = 6300.0 * t ** 4 * (-t + 1) ** 4 - 10080.0 * t ** 3 * (-t + 1) ** 5 + 2520.0 * t ** 2 * (-t + 1) ** 6\n",
    "    P5ddot = 5040.0 * t ** 5 * (-t + 1) ** 3 - 12600.0 * t ** 4 * (-t + 1) ** 4 + 5040.0 * t ** 3 * (-t + 1) ** 5\n",
    "    P6ddot = 2520.0 * t ** 6 * (-t + 1) ** 2 - 10080.0 * t ** 5 * (-t + 1) ** 3 + 6300.0 * t ** 4 * (-t + 1) ** 4\n",
    "    P7ddot = -360.0 * t ** 7 * (2 * t - 2) - 5040.0 * t ** 6 * (-t + 1) ** 2 + 5040.0 * t ** 5 * (-t + 1) ** 3\n",
    "    P8ddot = 90.0 * t ** 8 + 720.0 * t ** 7 * (2 * t - 2) + 2520.0 * t ** 6 * (-t + 1) ** 2\n",
    "    P9ddot = -180.0 * t ** 8 + 72 * t ** 7 * (-10.0 * t + 10.0)\n",
    "    P10ddot = 90.0 * t ** 8\n",
    "\n",
    "    P = np.hstack((P0, P1, P2, P3, P4, P5, P6, P7, P8, P9, P10))\n",
    "    Pdot = np.hstack((P0dot, P1dot, P2dot, P3dot, P4dot, P5dot, P6dot, P7dot, P8dot, P9dot, P10dot)) / l\n",
    "    Pddot = np.hstack((P0ddot, P1ddot, P2ddot, P3ddot, P4ddot, P5ddot, P6ddot, P7ddot, P8ddot, P9ddot, P10ddot)) / (l ** 2)\n",
    "    return P, Pdot, Pddot"
   ]
  },
  {
   "cell_type": "markdown",
   "metadata": {},
   "source": [
    "#### Initializations"
   ]
  },
  {
   "cell_type": "code",
   "execution_count": 3,
   "metadata": {},
   "outputs": [],
   "source": [
    "x_min = -6.0\n",
    "x_max = 6.0\n",
    "\n",
    "y_min = -6.0\n",
    "y_max = 6.0\n",
    "\n",
    "t_fin = 2.0\n",
    "num = 25"
   ]
  },
  {
   "cell_type": "code",
   "execution_count": 4,
   "metadata": {},
   "outputs": [],
   "source": [
    "tot_time = np.linspace(0.0, t_fin, num)\n",
    "tot_time_copy = tot_time.reshape(num, 1)\n",
    "P, Pdot, Pddot = bernstein_coeff_order10_new(10, tot_time_copy[0], tot_time_copy[-1], tot_time_copy)\n",
    "nvar = np.shape(P)[1]\n",
    "num = np.shape(P)[0]"
   ]
  },
  {
   "cell_type": "code",
   "execution_count": 5,
   "metadata": {},
   "outputs": [],
   "source": [
    "x_obs_temp = np.hstack((-2.0, -0.79, 3.0, 4.0))\n",
    "y_obs_temp = np.hstack((-2.0, 1.0, -0.80, 2.0))\n",
    "num_obs = np.shape(x_obs_temp)[0]\n",
    "\n",
    "a_obs = 1.0\n",
    "b_obs = 1.0\n",
    "\n",
    "x_obs = np.ones((num_obs, num)) * x_obs_temp[:, np.newaxis]\n",
    "y_obs = np.ones((num_obs, num)) * y_obs_temp[:, np.newaxis]"
   ]
  },
  {
   "cell_type": "code",
   "execution_count": 6,
   "metadata": {},
   "outputs": [],
   "source": [
    "x_init = -2.87\n",
    "y_init = 2.96\n",
    "vx_init = 0.0\n",
    "ax_init = 0.0\n",
    "vy_init = 0.0\n",
    "ay_init = 0.0"
   ]
  },
  {
   "cell_type": "code",
   "execution_count": 7,
   "metadata": {},
   "outputs": [],
   "source": [
    "x_fin = 1.4\n",
    "y_fin = 0.2\n",
    "vx_fin = 0.0\n",
    "ax_fin = 0.0\n",
    "vy_fin = 0.0\n",
    "ay_fin = 0.0"
   ]
  },
  {
   "cell_type": "code",
   "execution_count": 8,
   "metadata": {},
   "outputs": [],
   "source": [
    "rho_obs = 2.0\n",
    "rho_eq = 10.0\n",
    "weight_smoothness = 100"
   ]
  },
  {
   "cell_type": "code",
   "execution_count": 9,
   "metadata": {},
   "outputs": [],
   "source": [
    "A_eq = np.vstack((P[0], Pdot[0], Pddot[0], P[-1], Pdot[-1], Pddot[-1]))\n",
    "A_obs = np.tile(P, (num_obs, 1))\n",
    "Q_smoothness = np.dot(Pddot.T, Pddot)"
   ]
  },
  {
   "cell_type": "code",
   "execution_count": 10,
   "metadata": {},
   "outputs": [
    {
     "name": "stderr",
     "output_type": "stream",
     "text": [
      "/Users/shashanks./opt/anaconda3/envs/pytorchenv/lib/python3.7/site-packages/jax/lib/xla_bridge.py:130: UserWarning: No GPU/TPU found, falling back to CPU.\n",
      "  warnings.warn('No GPU/TPU found, falling back to CPU.')\n"
     ]
    }
   ],
   "source": [
    "P_jax = jnp.asarray(P)\n",
    "A_eq_jax = jnp.asarray(A_eq)\n",
    "A_obs_jax = jnp.asarray(A_obs)\n",
    "x_obs_jax = jnp.asarray(x_obs)\n",
    "y_obs_jax = jnp.asarray(y_obs)\n",
    "Q_smoothness_jax = jnp.asarray(Q_smoothness)"
   ]
  },
  {
   "cell_type": "code",
   "execution_count": 11,
   "metadata": {},
   "outputs": [
    {
     "data": {
      "text/plain": [
       "(array([ 1.2147, -0.8816,  0.186 ,  0.0862,  1.1351,  1.033 ]),\n",
       " array([ 0.0876,  0.9048,  0.0106, -0.3246,  0.2031,  1.6398]))"
      ]
     },
     "execution_count": 11,
     "metadata": {},
     "output_type": "execute_result"
    }
   ],
   "source": [
    "# bx_eq = np.array([-1.6721, -0.0158,  0.2543, -0.5678,  0.0000,  0.0000])\n",
    "# by_eq = np.array([2.1997, -1.7899, -0.6161, -0.7362,  0.0000,  0.0000])\n",
    "\n",
    "bx_eq = np.array([1.2147, -0.8816,  0.1860,  0.0862,  1.1351,  1.0330])\n",
    "by_eq = np.array([0.0876,  0.9048, 0.0106, -0.3246,  0.2031,  1.6398])\n",
    "bx_eq, by_eq"
   ]
  },
  {
   "cell_type": "markdown",
   "metadata": {},
   "source": [
    "#### Compute Solution"
   ]
  },
  {
   "cell_type": "code",
   "execution_count": 12,
   "metadata": {},
   "outputs": [],
   "source": [
    "def compute_sol(rho_obs, rho_eq, weight_smoothness, num_obs, bx_eq, by_eq, P, Pdot, Pddot, x_obs, y_obs, a_obs, b_obs):\n",
    "    maxiter = 300\n",
    "    nvar = np.shape(P)[1]\n",
    "    num = np.shape(P)[0]\n",
    "\n",
    "    cost_smoothness = weight_smoothness * np.dot(Pddot.T, Pddot)\n",
    "\n",
    "    alpha_obs = np.zeros((num_obs, num))\n",
    "    d_obs = np.ones((num_obs, num))\n",
    "\n",
    "    lamda_x = np.zeros(nvar)\n",
    "    lamda_y = np.zeros(nvar)\n",
    "\n",
    "    res_obs = np.ones(maxiter)\n",
    "    res_eq = np.ones(maxiter)\n",
    "    d_min = np.ones(maxiter)\n",
    "\n",
    "    cost = cost_smoothness + rho_obs * np.dot(A_obs.T, A_obs)\n",
    "    cost_mat = np.vstack((np.hstack((cost, A_eq.T)), np.hstack((A_eq, np.zeros((np.shape(A_eq)[0], np.shape(A_eq)[0]))))))\n",
    "    cost_mat_inv = np.linalg.inv(cost_mat)\n",
    "\n",
    "    for i in range(0, maxiter):\n",
    "        temp_x_obs = d_obs * np.cos(alpha_obs) * a_obs\n",
    "        b_obs_x = x_obs.reshape(num * num_obs) + temp_x_obs.reshape(num * num_obs)\n",
    "\n",
    "        temp_y_obs = d_obs * np.sin(alpha_obs) * b_obs\n",
    "        b_obs_y = y_obs.reshape(num * num_obs) + temp_y_obs.reshape(num * num_obs)\n",
    "\n",
    "        lincost_x = - lamda_x - rho_obs * np.dot(A_obs.T, b_obs_x)\n",
    "        lincost_y = - lamda_y - rho_obs * np.dot(A_obs.T, b_obs_y)\n",
    "\n",
    "        sol_x = np.dot(cost_mat_inv, np.hstack((-lincost_x, bx_eq)))\n",
    "        sol_y = np.dot(cost_mat_inv, np.hstack((-lincost_y, by_eq)))\n",
    "\n",
    "        primal_x = sol_x[0:nvar]\n",
    "        dual_x = sol_x[nvar:nvar + 6]\n",
    "\n",
    "        primal_y = sol_y[0:nvar]\n",
    "        dual_y = sol_y[nvar:nvar + 6]\n",
    "    \n",
    "        x = np.dot(P, primal_x)\n",
    "        y = np.dot(P, primal_y)\n",
    "\n",
    "        wc_alpha = (x - x_obs)\n",
    "        ws_alpha = (y - y_obs)\n",
    "        alpha_obs = np.arctan2(ws_alpha * a_obs, wc_alpha * b_obs)\n",
    "        \n",
    "        c1_d = 1.0 * rho_obs * (a_obs ** 2 * np.cos(alpha_obs) ** 2 + b_obs ** 2 * np.sin(alpha_obs) ** 2)\n",
    "        c2_d = 1.0 * rho_obs * (a_obs * wc_alpha * np.cos(alpha_obs) + b_obs * ws_alpha * np.sin(alpha_obs))\n",
    "\n",
    "        d_temp = c2_d / c1_d\n",
    "        d_obs = np.maximum(np.ones((num_obs, num)), d_temp)\n",
    "        d_min[i] = np.amin(d_temp)\n",
    "\n",
    "        res_x_obs_vec = wc_alpha - a_obs * d_obs * np.cos(alpha_obs)\n",
    "        res_y_obs_vec = ws_alpha - b_obs * d_obs * np.sin(alpha_obs)\n",
    "\n",
    "        lamda_x = lamda_x - rho_obs * np.dot(A_obs.T, res_x_obs_vec.reshape(num_obs * num))\n",
    "        lamda_y = lamda_y - rho_obs * np.dot(A_obs.T, res_y_obs_vec.reshape(num_obs * num))\n",
    "        \n",
    "        res_obs[i] = np.linalg.norm(np.hstack((res_x_obs_vec, res_y_obs_vec)))\n",
    "\n",
    "    slack_obs = np.sqrt((d_obs - 1))\n",
    "    return x, y, primal_x, primal_y, dual_x, dual_y, alpha_obs.reshape(num_obs * num), d_obs.reshape(num_obs * num), lamda_x, lamda_y, slack_obs.reshape(num_obs * num)"
   ]
  },
  {
   "cell_type": "code",
   "execution_count": 13,
   "metadata": {},
   "outputs": [],
   "source": [
    "x, y, primal_x, primal_y, dual_x, dual_y, alpha_obs, d_obs, lamda_x, lamda_y, slack_obs = compute_sol(rho_obs, rho_eq, weight_smoothness, num_obs, bx_eq, by_eq, P, Pdot, Pddot, x_obs, y_obs, a_obs, b_obs)"
   ]
  },
  {
   "cell_type": "code",
   "execution_count": 14,
   "metadata": {},
   "outputs": [],
   "source": [
    "aug_sol = np.hstack((primal_x, primal_y, alpha_obs, d_obs))"
   ]
  },
  {
   "cell_type": "code",
   "execution_count": 16,
   "metadata": {},
   "outputs": [
    {
     "data": {
      "text/plain": [
       "array([ 1.2147    ,  1.03838   ,  0.87032667,  0.50331953,  0.30967066,\n",
       "        0.30225991, -0.41747714,  0.00931756, -0.32192889, -0.14082   ])"
      ]
     },
     "execution_count": 16,
     "metadata": {},
     "output_type": "execute_result"
    }
   ],
   "source": [
    "aug_sol[:10]"
   ]
  },
  {
   "cell_type": "code",
   "execution_count": 17,
   "metadata": {},
   "outputs": [
    {
     "data": {
      "text/plain": [
       "array([ 1.2147    ,  1.03838   ,  0.87032667,  0.50331953,  0.30967066,\n",
       "        0.30225991, -0.41747714,  0.00931756, -0.32192889, -0.14082   ,\n",
       "        0.0862    ,  0.0876    ,  0.26856   ,  0.44999111,  0.05873069,\n",
       "        0.63001091, -0.2179742 ,  0.04874829, -0.19779072, -0.33296   ,\n",
       "       -0.36522   , -0.3246    ,  0.57594758,  0.602327  ,  0.62640225,\n",
       "        0.64797424,  0.66755885,  0.68557653,  0.70216972,  0.71728074,\n",
       "        0.73079064,  0.74262   ,  0.75275852,  0.76123235,  0.76803918,\n",
       "        0.77308751,  0.7761721 ,  0.77700414,  0.77529287,  0.7708494 ,\n",
       "        0.76366517,  0.75391886,  0.74189426,  0.72784852,  0.71195006,\n",
       "        0.69449016,  0.6766204 , -0.42711221, -0.41076631, -0.40114934,\n",
       "       -0.40106775, -0.4104395 , -0.42851249, -0.45485039, -0.4895181 ,\n",
       "       -0.53280727, -0.58475464, -0.64465543, -0.71074508, -0.78018508,\n",
       "       -0.84940287, -0.91469378, -0.97286206, -1.02165507, -1.05984848,\n",
       "       -1.08698652, -1.10289044, -1.10711265, -1.09857435, -1.07571647,\n",
       "       -1.0376046 , -0.98639121,  2.68021053,  2.66536454,  2.65939271,\n",
       "        2.66265588,  2.67287533,  2.68771928,  2.70560693,  2.72569087,\n",
       "        2.74754801,  2.77086044,  2.7952115 ,  2.82002552,  2.84462356,\n",
       "        2.86833914,  2.8906323 ,  2.91115414,  2.92973961,  2.94633249,\n",
       "        2.96086662,  2.97314017,  2.9827254 ,  2.98895369,  2.99100258,\n",
       "        2.98809792,  2.97986301, -2.53991353, -2.56964262, -2.59578352,\n",
       "       -2.61762502, -2.63551907, -2.64998129, -2.66137482, -2.66991176,\n",
       "       -2.67576283, -2.67915299, -2.68039562, -2.67986615, -2.67794201,\n",
       "       -2.67494158, -2.67108799, -2.66650909, -2.66126991, -2.65542236,\n",
       "       -2.64904989, -2.64228396, -2.63527616, -2.62812985, -2.62083139,\n",
       "       -2.61328182, -2.60563384,  3.83306272,  3.81109689,  3.77824705,\n",
       "        3.73070451,  3.67036927,  3.60055451,  3.52395716,  3.44214698,\n",
       "        3.35588471,  3.26573363,  3.17260473,  3.07804694,  2.98423757,\n",
       "        2.89373276,  2.80909912,  2.7325687 ,  2.66584385,  2.61013386,\n",
       "        2.5664389 ,  2.53601994,  2.52090784,  2.52419968,  2.54974811,\n",
       "        2.60065021,  2.67566732,  2.20256574,  2.10556961,  2.01052614,\n",
       "        1.9166146 ,  1.82395823,  1.73378461,  1.64788485,  1.56815272,\n",
       "        1.49636915,  1.43415183,  1.38292974,  1.34384033,  1.31753976,\n",
       "        1.30401407,  1.30250981,  1.31163797,  1.32959475,  1.35438273,\n",
       "        1.38395681,  1.41632628,  1.44973498,  1.48304321,  1.51627897,\n",
       "        1.55087887,  1.58817241,  1.99377277,  2.09240285,  2.18863934,\n",
       "        2.28226741,  2.3735171 ,  2.46226658,  2.54801722,  2.630233  ,\n",
       "        2.70862998,  2.78322165,  2.85412872,  2.92127655,  2.98413692,\n",
       "        3.04163878,  3.09229373,  3.13448731,  3.16681203,  3.18828739,\n",
       "        3.19833528,  3.19645555,  3.18167855,  3.15206191,  3.10475025,\n",
       "        3.03742376,  2.95232715,  3.37863432,  3.40083481,  3.43870122,\n",
       "        3.49426659,  3.56429814,  3.64459265,  3.7317422 ,  3.82351791,\n",
       "        3.91857871,  4.01594362,  4.11449544,  4.21266635,  4.3083669 ,\n",
       "        4.39914453,  4.48249537,  4.55621118,  4.61862847,  4.66866519,\n",
       "        4.7055824 ,  4.72849507,  4.73577796,  4.72466488,  4.69151734,\n",
       "        4.63343584,  4.55209793])"
      ]
     },
     "execution_count": 17,
     "metadata": {},
     "output_type": "execute_result"
    }
   ],
   "source": [
    "aug_sol"
   ]
  },
  {
   "cell_type": "code",
   "execution_count": 18,
   "metadata": {},
   "outputs": [],
   "source": [
    "lamda_x_jax = jnp.asarray(lamda_x)\n",
    "lamda_y_jax = jnp.asarray(lamda_y)"
   ]
  },
  {
   "cell_type": "markdown",
   "metadata": {},
   "source": [
    "#### Cost Function"
   ]
  },
  {
   "cell_type": "code",
   "execution_count": null,
   "metadata": {},
   "outputs": [],
   "source": [
    "def cost_fun(aug_sol_jax, param_sol):\n",
    "    x_init, vx_init, ax_init, x_fin, vx_fin, ax_fin, y_init, vy_init, ay_init, y_fin, vy_fin, ay_fin = param_sol\n",
    "\n",
    "    bx_eq_jax = jnp.array(bx_eq)\n",
    "    by_eq_jax = jnp.array(by_eq)\n",
    "\n",
    "    c_x = aug_sol_jax[0:nvar]\n",
    "    c_y = aug_sol_jax[nvar: 2 * nvar]\n",
    "\n",
    "    num_tot = num_obs * num\n",
    "    alpha_obs = aug_sol_jax[2 * nvar:2*nvar + num_tot]\n",
    "    d_obs = aug_sol_jax[2 * nvar + num_tot:2 * nvar + 2 * num_tot]\n",
    "\n",
    "    cost_smoothness_x = 0.5 * weight_smoothness * jnp.dot(c_x.T, jnp.dot(Q_smoothness_jax, c_x))\n",
    "    cost_smoothness_y = 0.5 * weight_smoothness * jnp.dot(c_y.T, jnp.dot(Q_smoothness_jax, c_y))\n",
    "\n",
    "    temp_x_obs = d_obs * jnp.cos(alpha_obs) * a_obs\n",
    "    b_obs_x = x_obs_jax.reshape(num * num_obs) + temp_x_obs\n",
    "\n",
    "    temp_y_obs = d_obs * jnp.sin(alpha_obs) * b_obs\n",
    "    b_obs_y = y_obs_jax.reshape(num * num_obs) + temp_y_obs\n",
    "\n",
    "    cost_obs_x = 0.5 * rho_obs * (jnp.sum((jnp.dot(A_obs_jax, c_x) - b_obs_x) ** 2))\n",
    "    cost_obs_y = 0.5 * rho_obs * (jnp.sum((jnp.dot(A_obs_jax, c_y) - b_obs_y) ** 2))\n",
    "    cost_slack = 0.5 * rho_obs * jnp.sum(jnp.maximum(jnp.zeros(num_tot), -d_obs + 1))\n",
    "\n",
    "    cost_eq_x = 0.5 * rho_eq * (jnp.sum((jnp.dot(A_eq_jax, c_x) - bx_eq_jax) ** 2))\n",
    "    cost_eq_y = 0.5 * rho_eq * (jnp.sum((jnp.dot(A_eq_jax, c_y) - by_eq_jax) ** 2))\n",
    "    \n",
    "    cost_x = cost_smoothness_x + cost_obs_x - jnp.dot(lamda_x_jax.T, c_x)\n",
    "    cost_y = cost_smoothness_y + cost_obs_y - jnp.dot(lamda_y_jax.T, c_y)\n",
    "    \n",
    "    eps = 10 ** (-8.0)\n",
    "    cost = cost_x + cost_y + eps * jnp.sum(c_x ** 2) + eps * jnp.sum(c_y ** 2) + eps * jnp.sum(d_obs ** 2) + eps * jnp.sum(alpha_obs ** 2) + cost_slack\n",
    "    return cost "
   ]
  },
  {
   "cell_type": "code",
   "execution_count": 20,
   "metadata": {},
   "outputs": [],
   "source": [
    "aug_sol_jax = jnp.asarray(aug_sol)\n",
    "params = jnp.hstack((x_init, vx_init, ax_init, x_fin, vx_fin, ax_fin, y_init, vy_init, ay_init, y_fin, vy_fin, ay_fin))\n",
    "# cost_fun(aug_sol_jax, params)"
   ]
  },
  {
   "cell_type": "code",
   "execution_count": 21,
   "metadata": {},
   "outputs": [],
   "source": [
    "# x_init, vx_init, ax_init, x_fin, vx_fin, ax_fin, y_init, vy_init, ay_init, y_fin, vy_fin, ay_fin = params\n",
    "\n",
    "bx_eq_jax = jnp.array(bx_eq)\n",
    "by_eq_jax = jnp.array(by_eq)\n",
    "\n",
    "c_x = aug_sol_jax[0:nvar]\n",
    "c_y = aug_sol_jax[nvar: 2 * nvar]\n",
    "\n",
    "num_tot = num_obs * num\n",
    "alpha_obs = aug_sol_jax[2 * nvar:2*nvar + num_tot]\n",
    "d_obs = aug_sol_jax[2 * nvar + num_tot:2 * nvar + 2 * num_tot]\n",
    "\n",
    "cost_smoothness_x = 0.5 * weight_smoothness * jnp.dot(c_x.T, jnp.dot(Q_smoothness_jax, c_x))\n",
    "cost_smoothness_y = 0.5 * weight_smoothness * jnp.dot(c_y.T, jnp.dot(Q_smoothness_jax, c_y))\n",
    "\n",
    "temp_x_obs = d_obs * jnp.cos(alpha_obs) * a_obs\n",
    "b_obs_x = x_obs_jax.reshape(num * num_obs) + temp_x_obs\n",
    "\n",
    "temp_y_obs = d_obs * jnp.sin(alpha_obs) * b_obs\n",
    "b_obs_y = y_obs_jax.reshape(num * num_obs) + temp_y_obs\n",
    "\n",
    "cost_obs_x = 0.5 * rho_obs * (jnp.sum((jnp.dot(A_obs_jax, c_x) - b_obs_x) ** 2))\n",
    "cost_obs_y = 0.5 * rho_obs * (jnp.sum((jnp.dot(A_obs_jax, c_y) - b_obs_y) ** 2))\n",
    "cost_slack = 0.5 * rho_obs * jnp.sum(jnp.maximum(jnp.zeros(num_tot), -d_obs + 1))\n",
    "\n",
    "cost_eq_x = 0.5 * rho_eq * (jnp.sum((jnp.dot(A_eq_jax, c_x) - bx_eq_jax) ** 2))\n",
    "cost_eq_y = 0.5 * rho_eq * (jnp.sum((jnp.dot(A_eq_jax, c_y) - by_eq_jax) ** 2))\n",
    "\n",
    "cost_x = cost_smoothness_x + cost_obs_x - jnp.dot(lamda_x_jax.T, c_x)\n",
    "cost_y = cost_smoothness_y + cost_obs_y - jnp.dot(lamda_y_jax.T, c_y)\n",
    "\n",
    "eps = 10 ** (-8.0)\n",
    "cost = cost_x + cost_y + eps * jnp.sum(c_x ** 2) + eps * jnp.sum(c_y ** 2) + eps * jnp.sum(d_obs ** 2) + eps * jnp.sum(alpha_obs ** 2) + cost_slack"
   ]
  },
  {
   "cell_type": "code",
   "execution_count": 23,
   "metadata": {},
   "outputs": [
    {
     "data": {
      "text/plain": [
       "DeviceArray([ 1.2147    ,  1.03838   ,  0.87032667,  0.50331953,\n",
       "              0.30967066,  0.30225991, -0.41747714,  0.00931756,\n",
       "             -0.32192889, -0.14082   ,  0.0862    ], dtype=float64)"
      ]
     },
     "execution_count": 23,
     "metadata": {},
     "output_type": "execute_result"
    }
   ],
   "source": [
    "c_x"
   ]
  },
  {
   "cell_type": "code",
   "execution_count": 24,
   "metadata": {},
   "outputs": [
    {
     "data": {
      "text/plain": [
       "DeviceArray(3038.4687723, dtype=float64)"
      ]
     },
     "execution_count": 24,
     "metadata": {},
     "output_type": "execute_result"
    }
   ],
   "source": [
    "cost_smoothness_x"
   ]
  },
  {
   "cell_type": "code",
   "execution_count": null,
   "metadata": {},
   "outputs": [],
   "source": [
    "aug_sol[:10]"
   ]
  },
  {
   "cell_type": "markdown",
   "metadata": {},
   "source": [
    "#### Compute argmin derivative"
   ]
  },
  {
   "cell_type": "code",
   "execution_count": null,
   "metadata": {},
   "outputs": [],
   "source": [
    "hess_inp = jit(jacfwd(jacrev(cost_fun)))\n",
    "hess_param = jit(jacfwd(jacrev(cost_fun), argnums=1))"
   ]
  },
  {
   "cell_type": "code",
   "execution_count": null,
   "metadata": {},
   "outputs": [],
   "source": [
    "aug_sol = np.hstack((primal_x, primal_y, alpha_obs, d_obs))\n",
    "aug_sol_jax = jnp.asarray(aug_sol)\n",
    "\n",
    "params = jnp.hstack((x_init, vx_init, ax_init, x_fin, vx_fin, ax_fin, y_init, vy_init, ay_init, y_fin, vy_fin, ay_fin))\n",
    "\n",
    "F_yy = hess_inp(aug_sol, params)\n",
    "F_xy = hess_param(aug_sol, params)\n",
    "F_yy_inv = jnp.linalg.inv(F_yy)\n",
    "\n",
    "dgx = jnp.dot(-F_yy_inv, F_xy)"
   ]
  },
  {
   "cell_type": "code",
   "execution_count": null,
   "metadata": {},
   "outputs": [],
   "source": [
    "aug_sol.shape, params.shape"
   ]
  },
  {
   "cell_type": "code",
   "execution_count": null,
   "metadata": {},
   "outputs": [],
   "source": [
    "cost_fun(aug_sol_jax, params)"
   ]
  },
  {
   "cell_type": "markdown",
   "metadata": {},
   "source": [
    "#### Testing"
   ]
  },
  {
   "cell_type": "code",
   "execution_count": null,
   "metadata": {},
   "outputs": [],
   "source": [
    "maxiter = 300\n",
    "nvar = np.shape(P)[1]\n",
    "num = np.shape(P)[0]\n",
    "\n",
    "cost_smoothness = weight_smoothness * np.dot(Pddot.T, Pddot)\n",
    "\n",
    "alpha_obs = np.zeros((num_obs, num))\n",
    "d_obs = np.ones((num_obs, num))\n",
    "\n",
    "lamda_x = np.zeros(nvar)\n",
    "lamda_y = np.zeros(nvar)\n",
    "\n",
    "res_obs = np.ones(maxiter)\n",
    "res_eq = np.ones(maxiter)\n",
    "d_min = np.ones(maxiter)\n",
    "\n",
    "cost = cost_smoothness + rho_obs * np.dot(A_obs.T, A_obs)\n",
    "cost_mat = np.vstack((np.hstack((cost, A_eq.T)), np.hstack((A_eq, np.zeros((np.shape(A_eq)[0], np.shape(A_eq)[0]))))))\n",
    "cost_mat_inv = np.linalg.inv(cost_mat)"
   ]
  },
  {
   "cell_type": "code",
   "execution_count": null,
   "metadata": {},
   "outputs": [],
   "source": [
    "cost.shape, A_eq.shape"
   ]
  },
  {
   "cell_type": "code",
   "execution_count": null,
   "metadata": {},
   "outputs": [],
   "source": [
    "np.hstack((cost, A_eq.T)).shape"
   ]
  },
  {
   "cell_type": "code",
   "execution_count": null,
   "metadata": {},
   "outputs": [],
   "source": [
    "temp_x_obs = d_obs*np.cos(alpha_obs)*a_obs\n",
    "b_obs_x = x_obs.reshape(num*num_obs)+temp_x_obs.reshape(num*num_obs)\n",
    "\n",
    "temp_y_obs = d_obs*np.sin(alpha_obs)*b_obs\n",
    "b_obs_y = y_obs.reshape(num*num_obs)+temp_y_obs.reshape(num*num_obs)\n",
    "\n",
    "lincost_x = -lamda_x-rho_obs*np.dot(A_obs.T, b_obs_x)\n",
    "lincost_y = -lamda_y-rho_obs*np.dot(A_obs.T, b_obs_y)\n",
    "\n",
    "sol_x = np.dot(cost_mat_inv, np.hstack(( -lincost_x, bx_eq )))\n",
    "sol_y = np.dot(cost_mat_inv, np.hstack(( -lincost_y, by_eq )))"
   ]
  },
  {
   "cell_type": "code",
   "execution_count": null,
   "metadata": {},
   "outputs": [],
   "source": [
    "sol_x.shape, primal_x.shape"
   ]
  },
  {
   "cell_type": "code",
   "execution_count": null,
   "metadata": {},
   "outputs": [],
   "source": [
    "lincost_x.shape"
   ]
  },
  {
   "cell_type": "code",
   "execution_count": null,
   "metadata": {},
   "outputs": [],
   "source": [
    "bx_eq.shape"
   ]
  },
  {
   "cell_type": "code",
   "execution_count": null,
   "metadata": {},
   "outputs": [],
   "source": [
    "np.hstack(( -lincost_x, bx_eq )).shape"
   ]
  },
  {
   "cell_type": "code",
   "execution_count": null,
   "metadata": {},
   "outputs": [],
   "source": [
    "sol"
   ]
  }
 ],
 "metadata": {
  "kernelspec": {
   "display_name": "Python 3",
   "language": "python",
   "name": "python3"
  },
  "language_info": {
   "codemirror_mode": {
    "name": "ipython",
    "version": 3
   },
   "file_extension": ".py",
   "mimetype": "text/x-python",
   "name": "python",
   "nbconvert_exporter": "python",
   "pygments_lexer": "ipython3",
   "version": "3.7.7"
  }
 },
 "nbformat": 4,
 "nbformat_minor": 4
}
